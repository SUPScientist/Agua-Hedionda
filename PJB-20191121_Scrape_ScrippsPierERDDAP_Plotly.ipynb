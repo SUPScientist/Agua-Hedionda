{
 "cells": [
  {
   "cell_type": "markdown",
   "metadata": {},
   "source": [
    "# Download data from ERDDAP and plot with Plotly"
   ]
  },
  {
   "cell_type": "code",
   "execution_count": 1,
   "metadata": {},
   "outputs": [],
   "source": [
    "import pandas as pd\n",
    "import numpy as np\n",
    "import os\n",
    "\n",
    "# from _plotly_future_ import v4_subplots\n",
    "import plotly\n",
    "# import chart_studio.plotly as py\n",
    "import plotly.graph_objs as go\n",
    "from plotly import tools\n",
    "import datetime\n",
    "\n",
    "from erddapy import ERDDAP"
   ]
  },
  {
   "cell_type": "markdown",
   "metadata": {},
   "source": [
    "### Step 1: access data on ERDDAP\n",
    "- from this URL: http://erddap.sccoos.org/erddap/tabledap/pH-AHL.csv\n",
    "- put into DataFrame"
   ]
  },
  {
   "cell_type": "code",
   "execution_count": 16,
   "metadata": {},
   "outputs": [
    {
     "data": {
      "text/html": [
       "<div>\n",
       "<style scoped>\n",
       "    .dataframe tbody tr th:only-of-type {\n",
       "        vertical-align: middle;\n",
       "    }\n",
       "\n",
       "    .dataframe tbody tr th {\n",
       "        vertical-align: top;\n",
       "    }\n",
       "\n",
       "    .dataframe thead th {\n",
       "        text-align: right;\n",
       "    }\n",
       "</style>\n",
       "<table border=\"1\" class=\"dataframe\">\n",
       "  <thead>\n",
       "    <tr style=\"text-align: right;\">\n",
       "      <th></th>\n",
       "      <th>station</th>\n",
       "      <th>depth (m)</th>\n",
       "      <th>pressure</th>\n",
       "      <th>salinity</th>\n",
       "      <th>temperature (celsius)</th>\n",
       "      <th>time (UTC)</th>\n",
       "    </tr>\n",
       "  </thead>\n",
       "  <tbody>\n",
       "    <tr>\n",
       "      <th>0</th>\n",
       "      <td>scripps_pier</td>\n",
       "      <td>5.0</td>\n",
       "      <td>3.990</td>\n",
       "      <td>33.3556</td>\n",
       "      <td>16.8593</td>\n",
       "      <td>2017-09-01T00:02:54Z</td>\n",
       "    </tr>\n",
       "    <tr>\n",
       "      <th>1</th>\n",
       "      <td>scripps_pier</td>\n",
       "      <td>5.0</td>\n",
       "      <td>4.087</td>\n",
       "      <td>33.3170</td>\n",
       "      <td>16.5745</td>\n",
       "      <td>2017-09-01T00:06:05Z</td>\n",
       "    </tr>\n",
       "    <tr>\n",
       "      <th>2</th>\n",
       "      <td>scripps_pier</td>\n",
       "      <td>5.0</td>\n",
       "      <td>4.094</td>\n",
       "      <td>33.3055</td>\n",
       "      <td>17.0382</td>\n",
       "      <td>2017-09-01T00:10:54Z</td>\n",
       "    </tr>\n",
       "    <tr>\n",
       "      <th>3</th>\n",
       "      <td>scripps_pier</td>\n",
       "      <td>5.0</td>\n",
       "      <td>4.051</td>\n",
       "      <td>33.3286</td>\n",
       "      <td>16.5041</td>\n",
       "      <td>2017-09-01T00:14:05Z</td>\n",
       "    </tr>\n",
       "    <tr>\n",
       "      <th>4</th>\n",
       "      <td>scripps_pier</td>\n",
       "      <td>5.0</td>\n",
       "      <td>4.025</td>\n",
       "      <td>33.3237</td>\n",
       "      <td>16.4571</td>\n",
       "      <td>2017-09-01T00:18:54Z</td>\n",
       "    </tr>\n",
       "  </tbody>\n",
       "</table>\n",
       "</div>"
      ],
      "text/plain": [
       "        station  depth (m)  pressure  salinity  temperature (celsius)  \\\n",
       "0  scripps_pier        5.0     3.990   33.3556                16.8593   \n",
       "1  scripps_pier        5.0     4.087   33.3170                16.5745   \n",
       "2  scripps_pier        5.0     4.094   33.3055                17.0382   \n",
       "3  scripps_pier        5.0     4.051   33.3286                16.5041   \n",
       "4  scripps_pier        5.0     4.025   33.3237                16.4571   \n",
       "\n",
       "             time (UTC)  \n",
       "0  2017-09-01T00:02:54Z  \n",
       "1  2017-09-01T00:06:05Z  \n",
       "2  2017-09-01T00:10:54Z  \n",
       "3  2017-09-01T00:14:05Z  \n",
       "4  2017-09-01T00:18:54Z  "
      ]
     },
     "execution_count": 16,
     "metadata": {},
     "output_type": "execute_result"
    }
   ],
   "source": [
    "e = ERDDAP(\n",
    "  server=\"http://erddap.sccoos.org/erddap\",\n",
    "  protocol='tabledap',\n",
    ")\n",
    "e.response = 'csv'\n",
    "e.dataset_id = 'autoss'\n",
    "\n",
    "e.constraints = {\n",
    "    'time>=': '2017-09-01T00:00:00Z',\n",
    "    'time<=': '2019-08-31T00:00:00Z',\n",
    "#     'latitude>=': 38.0,\n",
    "#     'latitude<=': 41.0,\n",
    "#     'longitude>=': -72.0,\n",
    "#     'longitude<=': -69.0,\n",
    "}\n",
    "e.variables = [\n",
    "    'station',\n",
    "    'depth',\n",
    "    'pressure',\n",
    "#     'latitude',\n",
    "#     'longitude',\n",
    "    'salinity',\n",
    "    'temperature',\n",
    "    'time',\n",
    "]\n",
    "\n",
    "df_all_sccoos = e.to_pandas()\n",
    "\n",
    "# Trim a bit for plotting speed\n",
    "# df_ahl_seaphox = df_ahl_seaphox.iloc[::2, :]\n",
    "df_all_sccoos.head()"
   ]
  },
  {
   "cell_type": "markdown",
   "metadata": {},
   "source": [
    "### Find out what stations are included; filter for Scripps Pier"
   ]
  },
  {
   "cell_type": "code",
   "execution_count": 17,
   "metadata": {},
   "outputs": [
    {
     "name": "stdout",
     "output_type": "stream",
     "text": [
      "All stations in original DF:  ['scripps_pier' 'stearns_wharf' 'newport_pier' '005_newport_pier'\n",
      " 'santa_monica_pier']\n",
      "Station(s) in filtered DF: ['scripps_pier']\n",
      "Columns of filtered DF: Index(['station', 'depth (m)', 'pressure', 'salinity', 'temperature (celsius)',\n",
      "       'time (UTC)'],\n",
      "      dtype='object')\n"
     ]
    }
   ],
   "source": [
    "print(\"All stations in original DF: \", df_all_sccoos.loc[:, 'station'].unique())\n",
    "df_scrippspier = df_all_sccoos[df_all_sccoos.loc[:, 'station']=='scripps_pier']\n",
    "print(\"Station(s) in filtered DF:\", df_scrippspier.loc[:, 'station'].unique())\n",
    "print(\"Columns of filtered DF:\", df_scrippspier.columns)"
   ]
  },
  {
   "cell_type": "markdown",
   "metadata": {},
   "source": [
    "### Make Plotly subplots; save HTML output"
   ]
  },
  {
   "cell_type": "code",
   "execution_count": 21,
   "metadata": {},
   "outputs": [
    {
     "data": {
      "text/plain": [
       "'../scrippspier_subplots.html'"
      ]
     },
     "execution_count": 21,
     "metadata": {},
     "output_type": "execute_result"
    }
   ],
   "source": [
    "# Create traces\n",
    "trace1 = go.Scatter(\n",
    "    x = df_scrippspier['time (UTC)'], \n",
    "    y = df_scrippspier['temperature (celsius)'],\n",
    "    mode = 'lines',\n",
    "    name = 'Temperature'\n",
    ")\n",
    "\n",
    "trace2 = go.Scatter(\n",
    "    x = df_scrippspier['time (UTC)'], \n",
    "    y = df_scrippspier['salinity'],\n",
    "    mode = 'lines',\n",
    "    name = 'Salinity'\n",
    ")\n",
    "\n",
    "\n",
    "# data = [trace1, trace2]\n",
    "\n",
    "fig = plotly.subplots.make_subplots(rows = 2, cols = 1, shared_xaxes=True)\n",
    "\n",
    "fig.append_trace(trace1, 1, 1)\n",
    "fig.append_trace(trace2, 2, 1)\n",
    "\n",
    "# Update yaxis properties\n",
    "fig.update_yaxes(title_text=\"Temp (ºC)\", row=1, col=1, range=[10, 27])\n",
    "fig.update_yaxes(title_text=\"Sal (PSU)\", row=2, col=1, range=[32.5, 34.5])\n",
    "\n",
    "# fig.update_xaxes(title_text=\"Time (UTC)\", row=2, col=1, range=[datetime.datetime(2019, 8, 22),\n",
    "#                                                        max(df_ahl_seaphox['time (UTC)'])])\n",
    "\n",
    "# Plot and embed here\n",
    "# py.iplot(fig, filename='ahl_subplots.html')\n",
    "plotly.offline.plot(fig, filename='../scrippspier_subplots.html')"
   ]
  },
  {
   "cell_type": "code",
   "execution_count": 19,
   "metadata": {},
   "outputs": [],
   "source": [
    "df_scrippspier.to_csv('Temp-Salt_ERDDAP_Scripps-Pier.csv')"
   ]
  },
  {
   "cell_type": "code",
   "execution_count": null,
   "metadata": {},
   "outputs": [],
   "source": []
  }
 ],
 "metadata": {
  "kernelspec": {
   "display_name": "Python 3",
   "language": "python",
   "name": "python3"
  },
  "language_info": {
   "codemirror_mode": {
    "name": "ipython",
    "version": 3
   },
   "file_extension": ".py",
   "mimetype": "text/x-python",
   "name": "python",
   "nbconvert_exporter": "python",
   "pygments_lexer": "ipython3",
   "version": "3.7.3"
  }
 },
 "nbformat": 4,
 "nbformat_minor": 4
}
