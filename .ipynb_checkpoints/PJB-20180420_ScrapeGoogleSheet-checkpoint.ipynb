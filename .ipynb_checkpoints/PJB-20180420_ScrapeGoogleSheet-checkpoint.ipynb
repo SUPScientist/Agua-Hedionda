{
 "cells": [
  {
   "cell_type": "markdown",
   "metadata": {},
   "source": [
    "# Google Sheets Scraper\n",
    "Goal: scrape the Google Sheet with autofilling data from the Particle Electron at Carlsbad Aquafarm\n",
    "[Google Sheet named \"SeapHOx_OuterLagoon\" is here](https://docs.google.com/spreadsheets/d/19jxQzqJa_B5zZJJmd6LmJDA0utKn0NTWoeNK_HkOse4/edit#gid=0)"
   ]
  },
  {
   "cell_type": "code",
   "execution_count": 4,
   "metadata": {},
   "outputs": [],
   "source": [
    "import numpy as np\n",
    "import pandas as pd\n",
    "# import seaborn as sns\n",
    "import matplotlib.pyplot as plt\n",
    "import matplotlib.ticker as ticker\n",
    "import os\n",
    "\n",
    "%matplotlib inline"
   ]
  },
  {
   "cell_type": "markdown",
   "metadata": {},
   "source": [
    "### Scrape Google Sheets\n",
    "Run python script from https://developers.google.com/sheets/api/quickstart/python which needs to run separately as it interacts with the web browser (in other words, don't copy and paste script into here."
   ]
  },
  {
   "cell_type": "code",
   "execution_count": 7,
   "metadata": {
    "scrolled": false
   },
   "outputs": [
    {
     "ename": "NameError",
     "evalue": "name 'datasheets' is not defined",
     "output_type": "error",
     "traceback": [
      "\u001b[0;31m---------------------------------------------------------------------------\u001b[0m",
      "\u001b[0;31mNameError\u001b[0m                                 Traceback (most recent call last)",
      "\u001b[0;32m<ipython-input-7-62c2e0e8db38>\u001b[0m in \u001b[0;36m<module>\u001b[0;34m()\u001b[0m\n\u001b[0;32m----> 1\u001b[0;31m \u001b[0mclient\u001b[0m \u001b[0;34m=\u001b[0m \u001b[0mdatasheets\u001b[0m\u001b[0;34m.\u001b[0m\u001b[0mClient\u001b[0m\u001b[0;34m(\u001b[0m\u001b[0;34m)\u001b[0m\u001b[0;34m\u001b[0m\u001b[0m\n\u001b[0m\u001b[1;32m      2\u001b[0m \u001b[0mclient\u001b[0m\u001b[0;34m.\u001b[0m\u001b[0mfetch_workbooks_info\u001b[0m\u001b[0;34m(\u001b[0m\u001b[0;34m)\u001b[0m\u001b[0;34m\u001b[0m\u001b[0m\n\u001b[1;32m      3\u001b[0m \u001b[0;31m# type(values)\u001b[0m\u001b[0;34m\u001b[0m\u001b[0;34m\u001b[0m\u001b[0m\n\u001b[1;32m      4\u001b[0m \u001b[0;31m# print(values[-5:])\u001b[0m\u001b[0;34m\u001b[0m\u001b[0;34m\u001b[0m\u001b[0m\n",
      "\u001b[0;31mNameError\u001b[0m: name 'datasheets' is not defined"
     ]
    }
   ],
   "source": [
    "%run ./quickstart.py\n",
    "# type(values)\n",
    "# print(values[-5:])"
   ]
  },
  {
   "cell_type": "markdown",
   "metadata": {},
   "source": [
    "### Grab Useful Data from Sheet"
   ]
  },
  {
   "cell_type": "code",
   "execution_count": 6,
   "metadata": {},
   "outputs": [
    {
     "ename": "NameError",
     "evalue": "name 'values' is not defined",
     "output_type": "error",
     "traceback": [
      "\u001b[0;31m---------------------------------------------------------------------------\u001b[0m",
      "\u001b[0;31mNameError\u001b[0m                                 Traceback (most recent call last)",
      "\u001b[0;32m<ipython-input-6-a33ac095dbde>\u001b[0m in \u001b[0;36m<module>\u001b[0;34m()\u001b[0m\n\u001b[0;32m----> 1\u001b[0;31m \u001b[0melectron_array\u001b[0m \u001b[0;34m=\u001b[0m \u001b[0mpd\u001b[0m\u001b[0;34m.\u001b[0m\u001b[0mDataFrame\u001b[0m\u001b[0;34m(\u001b[0m\u001b[0mvalues\u001b[0m\u001b[0;34m)\u001b[0m \u001b[0;31m# includes timestamp\u001b[0m\u001b[0;34m\u001b[0m\u001b[0m\n\u001b[0m\u001b[1;32m      2\u001b[0m \u001b[0mdata_col\u001b[0m \u001b[0;34m=\u001b[0m \u001b[0melectron_array\u001b[0m\u001b[0;34m.\u001b[0m\u001b[0miloc\u001b[0m\u001b[0;34m[\u001b[0m\u001b[0;34m:\u001b[0m\u001b[0;34m,\u001b[0m \u001b[0;36m1\u001b[0m\u001b[0;34m]\u001b[0m\u001b[0;34m\u001b[0m\u001b[0m\n\u001b[1;32m      3\u001b[0m \u001b[0mdata_array\u001b[0m \u001b[0;34m=\u001b[0m \u001b[0mpd\u001b[0m\u001b[0;34m.\u001b[0m\u001b[0mDataFrame\u001b[0m\u001b[0;34m(\u001b[0m\u001b[0mdata_col\u001b[0m\u001b[0;34m.\u001b[0m\u001b[0mstr\u001b[0m\u001b[0;34m.\u001b[0m\u001b[0msplit\u001b[0m\u001b[0;34m(\u001b[0m\u001b[0;34m','\u001b[0m\u001b[0;34m,\u001b[0m \u001b[0mexpand\u001b[0m \u001b[0;34m=\u001b[0m \u001b[0mTrue\u001b[0m\u001b[0;34m)\u001b[0m\u001b[0;34m)\u001b[0m\u001b[0;34m\u001b[0m\u001b[0m\n\u001b[1;32m      4\u001b[0m \u001b[0mdata_array\u001b[0m\u001b[0;34m.\u001b[0m\u001b[0mcolumns\u001b[0m \u001b[0;34m=\u001b[0m \u001b[0;34m[\u001b[0m\u001b[0;34m'Date'\u001b[0m\u001b[0;34m,\u001b[0m \u001b[0;34m'Time'\u001b[0m\u001b[0;34m,\u001b[0m \u001b[0;34m'V_batt'\u001b[0m\u001b[0;34m,\u001b[0m \u001b[0;34m'V_int'\u001b[0m\u001b[0;34m,\u001b[0m \u001b[0;34m'V_ext'\u001b[0m\u001b[0;34m,\u001b[0m \u001b[0;34m'P_dbar'\u001b[0m\u001b[0;34m,\u001b[0m \u001b[0;34m'pH_int'\u001b[0m\u001b[0;34m,\u001b[0m \u001b[0;34m'O2_umolkg'\u001b[0m\u001b[0;34m,\u001b[0m \u001b[0;34m'temp_SBE'\u001b[0m\u001b[0;34m,\u001b[0m \u001b[0;34m'sal_SBE'\u001b[0m\u001b[0;34m,\u001b[0m \u001b[0;34m'V_batt_elec'\u001b[0m\u001b[0;34m,\u001b[0m \u001b[0;34m'charge_status'\u001b[0m\u001b[0;34m]\u001b[0m\u001b[0;34m\u001b[0m\u001b[0m\n\u001b[1;32m      5\u001b[0m \u001b[0mdata_array\u001b[0m\u001b[0;34m.\u001b[0m\u001b[0mset_index\u001b[0m\u001b[0;34m(\u001b[0m\u001b[0mpd\u001b[0m\u001b[0;34m.\u001b[0m\u001b[0mto_datetime\u001b[0m\u001b[0;34m(\u001b[0m\u001b[0mdata_array\u001b[0m\u001b[0;34m[\u001b[0m\u001b[0;34m'Date'\u001b[0m\u001b[0;34m]\u001b[0m \u001b[0;34m+\u001b[0m \u001b[0;34m' '\u001b[0m \u001b[0;34m+\u001b[0m \u001b[0mdata_array\u001b[0m\u001b[0;34m[\u001b[0m\u001b[0;34m'Time'\u001b[0m\u001b[0;34m]\u001b[0m\u001b[0;34m)\u001b[0m\u001b[0;34m,\u001b[0m \u001b[0minplace\u001b[0m \u001b[0;34m=\u001b[0m \u001b[0mTrue\u001b[0m\u001b[0;34m)\u001b[0m\u001b[0;34m\u001b[0m\u001b[0m\n",
      "\u001b[0;31mNameError\u001b[0m: name 'values' is not defined"
     ]
    }
   ],
   "source": [
    "electron_array = pd.DataFrame(values) # includes timestamp\n",
    "data_col = electron_array.iloc[:, 1]\n",
    "data_array = pd.DataFrame(data_col.str.split(',', expand = True)) \n",
    "data_array.columns = ['Date', 'Time', 'V_batt', 'V_int', 'V_ext', 'P_dbar', 'pH_int', 'O2_umolkg', 'temp_SBE', 'sal_SBE', 'V_batt_elec', 'charge_status']\n",
    "data_array.set_index(pd.to_datetime(data_array['Date'] + ' ' + data_array['Time']), inplace = True)\n",
    "data_array.drop(['Date', 'Time'], axis = 1, inplace = True)\n",
    "data_array.head()"
   ]
  },
  {
   "cell_type": "markdown",
   "metadata": {},
   "source": [
    "### Filter\n",
    "- Filter based on date\n",
    "- Cast to type float (for some reason the str.split leaves it as arbitrary object)\n",
    "- This was necessary in early notebook as the input data wasn't filtered at all but the Google Sheet should be cleaner to begin with (*i.e.*, no land data)\n",
    "- Filtration may come in handy later so keep this here for now"
   ]
  },
  {
   "cell_type": "code",
   "execution_count": null,
   "metadata": {},
   "outputs": [],
   "source": [
    "date_filt = data_array.index > '2018-04-17 18:30:00'\n",
    "data_filt = data_array[date_filt]\n",
    "\n",
    "import pytz\n",
    "pacific = pytz.timezone('US/Pacific')\n",
    "data_filt.index = data_filt.index.tz_localize(pytz.utc).tz_convert(pacific)\n",
    "\n",
    "data_filt = data_filt.astype('float')\n",
    "\n",
    "data_filt.tail()\n",
    "# data_filt.V_press"
   ]
  },
  {
   "cell_type": "markdown",
   "metadata": {},
   "source": [
    "### Plot"
   ]
  },
  {
   "cell_type": "code",
   "execution_count": null,
   "metadata": {
    "scrolled": false
   },
   "outputs": [],
   "source": [
    "fig, axs = plt.subplots(6, 1, figsize = (10, 10), sharex = True)\n",
    "axs[0].plot(data_filt.index, data_filt.V_batt)\n",
    "axs[0].set_ylabel('V_batt')\n",
    "ax2 = axs[0].twinx()\n",
    "ax2.plot(data_filt.index, data_filt.V_batt_elec, 'r')\n",
    "ax2.set_ylabel('V_batt_elec', color='r')\n",
    "ax2.tick_params('y', colors='r')\n",
    "\n",
    "axs[1].plot(data_filt.index, data_filt.P_dbar)\n",
    "axs[1].set_ylabel('P_dbar')\n",
    "\n",
    "axs[2].plot(data_filt.index, data_filt.sal_SBE)\n",
    "axs[2].set_ylabel('sal_SBE')\n",
    "\n",
    "axs[3].plot(data_filt.index, data_filt.temp_SBE)\n",
    "axs[3].set_ylabel('Temp')\n",
    "\n",
    "axs[4].plot(data_filt.index, data_filt.V_int)\n",
    "axs[4].set_ylabel('V_int')\n",
    "ax2 = axs[4].twinx()\n",
    "ax2.plot(data_filt.index, data_filt.V_ext, 'r')\n",
    "ax2.set_ylabel('V_ext', color='r')\n",
    "ax2.tick_params('y', colors='r')\n",
    "\n",
    "axs[5].plot(data_filt.index, data_filt.pH_int)\n",
    "axs[5].set_ylabel('pH')\n",
    "ax2 = axs[5].twinx()\n",
    "ax2.plot(data_filt.index, data_filt.O2_umolkg, 'r')\n",
    "ax2.set_ylabel('O2', color='r')\n",
    "ax2.tick_params('y', colors='r')\n",
    "\n",
    "axs[0].xaxis_date() # make sure it knows that x is a date/time\n",
    "\n",
    "for axi in axs.flat:\n",
    "#     axi.xaxis.set_major_locator(plt.MaxNLocator(3))\n",
    "#     print(axi)\n",
    "    axi.yaxis.set_major_locator(plt.MaxNLocator(3))\n",
    "#     axi.yaxis.set_major_formatter(ticker.FormatStrFormatter(\"%.02f\"))\n",
    "\n",
    "fig.autofmt_xdate() # makes the date labels easier to read."
   ]
  },
  {
   "cell_type": "code",
   "execution_count": null,
   "metadata": {
    "scrolled": false
   },
   "outputs": [],
   "source": [
    "fig, axs = plt.subplots(1, 1, figsize = (10, 10), sharex = True)\n",
    "pHOx = axs.scatter(x = data_filt.pH_int, \n",
    "                   y = data_filt.O2_umolkg, \n",
    "                   c = data_filt.P_dbar, \n",
    "                   s = 100)\n",
    "axs.set_xlabel('pH (int)')\n",
    "axs.set_ylabel('O2 (umol per something)')\n",
    "plt.colorbar(pHOx, label = 'P (dbar)');"
   ]
  },
  {
   "cell_type": "code",
   "execution_count": null,
   "metadata": {},
   "outputs": [],
   "source": [
    "cmap = plt.get_cmap('coolwarm')\n",
    "corr = data_filt.corr()\n",
    "corr.style.background_gradient(cmap, axis=1)\\\n",
    "    .set_properties(**{'max-width': '80px', 'font-size': '10pt'})\\\n",
    "    .set_caption(\"SeapHOx Correlations\")\\\n",
    "    .set_precision(2)"
   ]
  },
  {
   "cell_type": "code",
   "execution_count": null,
   "metadata": {},
   "outputs": [],
   "source": []
  }
 ],
 "metadata": {
  "kernelspec": {
   "display_name": "Python 2",
   "language": "python",
   "name": "python2"
  },
  "language_info": {
   "codemirror_mode": {
    "name": "ipython",
    "version": 2
   },
   "file_extension": ".py",
   "mimetype": "text/x-python",
   "name": "python",
   "nbconvert_exporter": "python",
   "pygments_lexer": "ipython2",
   "version": "2.7.15"
  }
 },
 "nbformat": 4,
 "nbformat_minor": 2
}
