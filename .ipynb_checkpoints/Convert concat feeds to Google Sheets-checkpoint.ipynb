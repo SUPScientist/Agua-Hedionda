{
 "cells": [
  {
   "cell_type": "code",
   "execution_count": 9,
   "metadata": {
    "collapsed": false
   },
   "outputs": [
    {
     "name": "stdout",
     "output_type": "stream",
     "text": [
      "Top few rows of /Users/pjb/Dropbox/Self-Calibrating SeapHOx/Analysis/Data/pre_googleSheets_feeds_concatenated.csv look like...\n"
     ]
    },
    {
     "data": {
      "text/html": [
       "<div>\n",
       "<table border=\"1\" class=\"dataframe\">\n",
       "  <thead>\n",
       "    <tr style=\"text-align: right;\">\n",
       "      <th></th>\n",
       "      <th>created_at</th>\n",
       "      <th>entry_id</th>\n",
       "      <th>field1</th>\n",
       "      <th>email</th>\n",
       "      <th>phone</th>\n",
       "      <th>message</th>\n",
       "    </tr>\n",
       "  </thead>\n",
       "  <tbody>\n",
       "    <tr>\n",
       "      <th>84</th>\n",
       "      <td>2018-04-19 13:09:23</td>\n",
       "      <td>754</td>\n",
       "      <td>2018/04/19,20:00:25,18.510,0.08214,-0.82946,5....</td>\n",
       "      <td>undefined</td>\n",
       "      <td>undefined</td>\n",
       "      <td>undefined</td>\n",
       "    </tr>\n",
       "    <tr>\n",
       "      <th>85</th>\n",
       "      <td>2018-04-19 13:41:13</td>\n",
       "      <td>755</td>\n",
       "      <td>2018/04/19,20:30:25,18.500,0.08307,-0.82846,5....</td>\n",
       "      <td>undefined</td>\n",
       "      <td>undefined</td>\n",
       "      <td>undefined</td>\n",
       "    </tr>\n",
       "    <tr>\n",
       "      <th>86</th>\n",
       "      <td>2018-04-19 14:13:56</td>\n",
       "      <td>756</td>\n",
       "      <td>2018/04/19,21:00:25,18.500,0.08386,-0.82759,5....</td>\n",
       "      <td>undefined</td>\n",
       "      <td>undefined</td>\n",
       "      <td>undefined</td>\n",
       "    </tr>\n",
       "    <tr>\n",
       "      <th>87</th>\n",
       "      <td>2018-04-19 14:47:09</td>\n",
       "      <td>757</td>\n",
       "      <td>2018/04/19,21:30:25,18.500,0.08419,-0.82720,5....</td>\n",
       "      <td>undefined</td>\n",
       "      <td>undefined</td>\n",
       "      <td>undefined</td>\n",
       "    </tr>\n",
       "    <tr>\n",
       "      <th>88</th>\n",
       "      <td>2018-04-19 15:19:37</td>\n",
       "      <td>758</td>\n",
       "      <td>0</td>\n",
       "      <td>undefined</td>\n",
       "      <td>undefined</td>\n",
       "      <td>undefined</td>\n",
       "    </tr>\n",
       "  </tbody>\n",
       "</table>\n",
       "</div>"
      ],
      "text/plain": [
       "            created_at  entry_id  \\\n",
       "84 2018-04-19 13:09:23       754   \n",
       "85 2018-04-19 13:41:13       755   \n",
       "86 2018-04-19 14:13:56       756   \n",
       "87 2018-04-19 14:47:09       757   \n",
       "88 2018-04-19 15:19:37       758   \n",
       "\n",
       "                                               field1      email      phone  \\\n",
       "84  2018/04/19,20:00:25,18.510,0.08214,-0.82946,5....  undefined  undefined   \n",
       "85  2018/04/19,20:30:25,18.500,0.08307,-0.82846,5....  undefined  undefined   \n",
       "86  2018/04/19,21:00:25,18.500,0.08386,-0.82759,5....  undefined  undefined   \n",
       "87  2018/04/19,21:30:25,18.500,0.08419,-0.82720,5....  undefined  undefined   \n",
       "88                                                  0  undefined  undefined   \n",
       "\n",
       "      message  \n",
       "84  undefined  \n",
       "85  undefined  \n",
       "86  undefined  \n",
       "87  undefined  \n",
       "88  undefined  "
      ]
     },
     "execution_count": 9,
     "metadata": {},
     "output_type": "execute_result"
    }
   ],
   "source": [
    "import pandas as pd\n",
    "import numpy as np\n",
    "import os\n",
    "\n",
    "cwd = os.getcwd()\n",
    "file_path = os.path.join(cwd, 'Data', 'pre_googleSheets_feeds_concatenated.csv')\n",
    "phox_df = pd.read_csv(file_path, sep = ',', parse_dates = [0])\n",
    "print(\"Top few rows of\", file_path, \"look like...\")\n",
    "phox_df.created_at -= pd.Timedelta('7 hours')\n",
    "phox_df.tail()\n"
   ]
  },
  {
   "cell_type": "code",
   "execution_count": 21,
   "metadata": {
    "collapsed": false,
    "scrolled": false
   },
   "outputs": [],
   "source": [
    "new_df = phox_df[['created_at', 'field1', 'email', 'phone', 'message']]\n",
    "new_file_path = os.path.join(cwd, 'Data', 'pre_googleSheets_feeds_concatenatedReformatted.csv')\n",
    "new_df.to_csv(new_file_path)"
   ]
  },
  {
   "cell_type": "code",
   "execution_count": null,
   "metadata": {
    "collapsed": true
   },
   "outputs": [],
   "source": []
  }
 ],
 "metadata": {
  "kernelspec": {
   "display_name": "Python [conda root]",
   "language": "python",
   "name": "conda-root-py"
  },
  "language_info": {
   "codemirror_mode": {
    "name": "ipython",
    "version": 3
   },
   "file_extension": ".py",
   "mimetype": "text/x-python",
   "name": "python",
   "nbconvert_exporter": "python",
   "pygments_lexer": "ipython3",
   "version": "3.5.4"
  }
 },
 "nbformat": 4,
 "nbformat_minor": 2
}
